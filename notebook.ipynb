{
 "cells": [
  {
   "cell_type": "code",
   "execution_count": 1,
   "metadata": {},
   "outputs": [],
   "source": [
    "runfile('C:/Users/magopda/Dropbox/Documents/Python/Eksamensoppgaver/R2V19/R2V19Oppgave1v2.py', wdir='C:/Users/magopda/Dropbox/Documents/Python/Eksamensoppgaver/R2V19')"
   ]
  },
  {
   "cell_type": "code",
   "execution_count": 2,
   "metadata": {},
   "outputs": [],
   "source": [
    "runfile('C:/Users/magopda/Dropbox/Documents/Python/Eksamensoppgaver/R2V19/R2V19Oppgave1v3.py', wdir='C:/Users/magopda/Dropbox/Documents/Python/Eksamensoppgaver/R2V19')"
   ]
  },
  {
   "cell_type": "code",
   "execution_count": 3,
   "metadata": {},
   "outputs": [],
   "source": [
    "% notebook R2V19Oppgave1v3.py"
   ]
  },
  {
   "cell_type": "code",
   "execution_count": 4,
   "metadata": {},
   "outputs": [],
   "source": [
    "%notebook R2V19Oppgave1v3.py"
   ]
  },
  {
   "cell_type": "code",
   "execution_count": 5,
   "metadata": {},
   "outputs": [],
   "source": [
    "%notebook"
   ]
  }
 ],
 "metadata": {},
 "nbformat": 4,
 "nbformat_minor": 2
}
